{
 "cells": [
  {
   "cell_type": "code",
   "execution_count": 1,
   "metadata": {},
   "outputs": [],
   "source": [
    "import pandas as pd\n",
    "import numpy as np\n",
    "import matplotlib.pyplot as plt "
   ]
  },
  {
   "cell_type": "code",
   "execution_count": 2,
   "metadata": {},
   "outputs": [],
   "source": [
    "# For local machine\n",
    "df = pd.read_json('sparkify_data.json', lines=True)\n",
    "\n",
    "# For Google colaboratory\n",
    "# from google.colab import drive\n",
    "# drive.mount('/content/gdrive/')\n",
    "# df = pd.read_json('gdrive/My Drive/Deloitte Take Home/sparkify_data.json', lines=True)"
   ]
  },
  {
   "cell_type": "markdown",
   "metadata": {},
   "source": [
    "## Preprocessing"
   ]
  },
  {
   "cell_type": "code",
   "execution_count": 3,
   "metadata": {},
   "outputs": [],
   "source": [
    "df.dropna(inplace=True)"
   ]
  },
  {
   "cell_type": "code",
   "execution_count": 4,
   "metadata": {},
   "outputs": [],
   "source": [
    "df['ts_converted'] = pd.to_datetime(df['ts'], unit=\"ms\")"
   ]
  },
  {
   "cell_type": "code",
   "execution_count": 5,
   "metadata": {},
   "outputs": [],
   "source": [
    "df['registration_converted'] = pd.to_datetime(df['registration'], unit=\"ms\")"
   ]
  },
  {
   "cell_type": "code",
   "execution_count": 6,
   "metadata": {},
   "outputs": [],
   "source": [
    "df['time_since_registered'] = (df['ts_converted'] - df['registration_converted']).dt.days"
   ]
  },
  {
   "cell_type": "code",
   "execution_count": 7,
   "metadata": {},
   "outputs": [],
   "source": [
    "# 1 -> stayed in current level; 2-> converted from free to paid\n",
    "subscribe_flow_df = df.groupby('userId')['level'].nunique().reset_index(drop=False)\n",
    "subscribe_flow_df.columns = ['userId', 'subscribe_flow']\n",
    "df = df.merge(subscribe_flow_df, left_on='userId', right_on='userId')"
   ]
  },
  {
   "cell_type": "code",
   "execution_count": 8,
   "metadata": {},
   "outputs": [],
   "source": [
    "df['artist'] = df['artist'].str.lower().replace(\" \", \"_\")"
   ]
  },
  {
   "cell_type": "code",
   "execution_count": 9,
   "metadata": {},
   "outputs": [],
   "source": [
    "def summarise_user_agent(s):\n",
    "    s = s.lower()\n",
    "    if 'macintosh' in s:\n",
    "        return 0\n",
    "    elif 'windows' in s:\n",
    "        return 1\n",
    "    elif 'linux' in s:\n",
    "        return 2\n",
    "    else:\n",
    "        return 3"
   ]
  },
  {
   "cell_type": "code",
   "execution_count": 10,
   "metadata": {},
   "outputs": [],
   "source": [
    "df['userAgent_summarised'] = df.userAgent.apply(summarise_user_agent)"
   ]
  },
  {
   "cell_type": "code",
   "execution_count": 11,
   "metadata": {},
   "outputs": [],
   "source": [
    "df['male'] = df.gender.apply(lambda x: 1 if x.lower() == 'm' else 0)"
   ]
  },
  {
   "cell_type": "code",
   "execution_count": 12,
   "metadata": {},
   "outputs": [],
   "source": [
    "def get_state(s):\n",
    "    s = s.lower()\n",
    "    arr = s.split(',')\n",
    "    return arr[-1].strip()"
   ]
  },
  {
   "cell_type": "code",
   "execution_count": 13,
   "metadata": {},
   "outputs": [],
   "source": [
    "df['location_state']= df['location'].apply(get_state)"
   ]
  },
  {
   "cell_type": "code",
   "execution_count": 14,
   "metadata": {},
   "outputs": [
    {
     "data": {
      "text/html": [
       "<div>\n",
       "<style scoped>\n",
       "    .dataframe tbody tr th:only-of-type {\n",
       "        vertical-align: middle;\n",
       "    }\n",
       "\n",
       "    .dataframe tbody tr th {\n",
       "        vertical-align: top;\n",
       "    }\n",
       "\n",
       "    .dataframe thead th {\n",
       "        text-align: right;\n",
       "    }\n",
       "</style>\n",
       "<table border=\"1\" class=\"dataframe\">\n",
       "  <thead>\n",
       "    <tr style=\"text-align: right;\">\n",
       "      <th></th>\n",
       "      <th>ts</th>\n",
       "      <th>userId</th>\n",
       "      <th>sessionId</th>\n",
       "      <th>page</th>\n",
       "      <th>auth</th>\n",
       "      <th>method</th>\n",
       "      <th>status</th>\n",
       "      <th>level</th>\n",
       "      <th>itemInSession</th>\n",
       "      <th>location</th>\n",
       "      <th>...</th>\n",
       "      <th>artist</th>\n",
       "      <th>song</th>\n",
       "      <th>length</th>\n",
       "      <th>ts_converted</th>\n",
       "      <th>registration_converted</th>\n",
       "      <th>time_since_registered</th>\n",
       "      <th>subscribe_flow</th>\n",
       "      <th>userAgent_summarised</th>\n",
       "      <th>male</th>\n",
       "      <th>location_state</th>\n",
       "    </tr>\n",
       "  </thead>\n",
       "  <tbody>\n",
       "    <tr>\n",
       "      <th>0</th>\n",
       "      <td>1538352011000</td>\n",
       "      <td>293</td>\n",
       "      <td>292</td>\n",
       "      <td>NextSong</td>\n",
       "      <td>Logged In</td>\n",
       "      <td>PUT</td>\n",
       "      <td>200</td>\n",
       "      <td>free</td>\n",
       "      <td>20</td>\n",
       "      <td>Corpus Christi, TX</td>\n",
       "      <td>...</td>\n",
       "      <td>martin orford</td>\n",
       "      <td>Grand Designs</td>\n",
       "      <td>597.55057</td>\n",
       "      <td>2018-10-01 00:00:11</td>\n",
       "      <td>2018-07-20 05:11:47</td>\n",
       "      <td>72</td>\n",
       "      <td>2</td>\n",
       "      <td>0</td>\n",
       "      <td>1</td>\n",
       "      <td>tx</td>\n",
       "    </tr>\n",
       "    <tr>\n",
       "      <th>1</th>\n",
       "      <td>1538352608000</td>\n",
       "      <td>293</td>\n",
       "      <td>292</td>\n",
       "      <td>NextSong</td>\n",
       "      <td>Logged In</td>\n",
       "      <td>PUT</td>\n",
       "      <td>200</td>\n",
       "      <td>free</td>\n",
       "      <td>21</td>\n",
       "      <td>Corpus Christi, TX</td>\n",
       "      <td>...</td>\n",
       "      <td>the pussycat dolls</td>\n",
       "      <td>Santa Baby</td>\n",
       "      <td>180.50567</td>\n",
       "      <td>2018-10-01 00:10:08</td>\n",
       "      <td>2018-07-20 05:11:47</td>\n",
       "      <td>72</td>\n",
       "      <td>2</td>\n",
       "      <td>0</td>\n",
       "      <td>1</td>\n",
       "      <td>tx</td>\n",
       "    </tr>\n",
       "    <tr>\n",
       "      <th>2</th>\n",
       "      <td>1538352788000</td>\n",
       "      <td>293</td>\n",
       "      <td>292</td>\n",
       "      <td>NextSong</td>\n",
       "      <td>Logged In</td>\n",
       "      <td>PUT</td>\n",
       "      <td>200</td>\n",
       "      <td>free</td>\n",
       "      <td>22</td>\n",
       "      <td>Corpus Christi, TX</td>\n",
       "      <td>...</td>\n",
       "      <td>eminem / hailie jade</td>\n",
       "      <td>My Dad's Gone Crazy</td>\n",
       "      <td>268.59057</td>\n",
       "      <td>2018-10-01 00:13:08</td>\n",
       "      <td>2018-07-20 05:11:47</td>\n",
       "      <td>72</td>\n",
       "      <td>2</td>\n",
       "      <td>0</td>\n",
       "      <td>1</td>\n",
       "      <td>tx</td>\n",
       "    </tr>\n",
       "    <tr>\n",
       "      <th>3</th>\n",
       "      <td>1538353056000</td>\n",
       "      <td>293</td>\n",
       "      <td>292</td>\n",
       "      <td>NextSong</td>\n",
       "      <td>Logged In</td>\n",
       "      <td>PUT</td>\n",
       "      <td>200</td>\n",
       "      <td>free</td>\n",
       "      <td>24</td>\n",
       "      <td>Corpus Christi, TX</td>\n",
       "      <td>...</td>\n",
       "      <td>jedi mind tricks</td>\n",
       "      <td>Suicide</td>\n",
       "      <td>232.88118</td>\n",
       "      <td>2018-10-01 00:17:36</td>\n",
       "      <td>2018-07-20 05:11:47</td>\n",
       "      <td>72</td>\n",
       "      <td>2</td>\n",
       "      <td>0</td>\n",
       "      <td>1</td>\n",
       "      <td>tx</td>\n",
       "    </tr>\n",
       "    <tr>\n",
       "      <th>4</th>\n",
       "      <td>1538353288000</td>\n",
       "      <td>293</td>\n",
       "      <td>292</td>\n",
       "      <td>NextSong</td>\n",
       "      <td>Logged In</td>\n",
       "      <td>PUT</td>\n",
       "      <td>200</td>\n",
       "      <td>free</td>\n",
       "      <td>25</td>\n",
       "      <td>Corpus Christi, TX</td>\n",
       "      <td>...</td>\n",
       "      <td>eagles of death metal</td>\n",
       "      <td>I Like To Move In The Night</td>\n",
       "      <td>239.75138</td>\n",
       "      <td>2018-10-01 00:21:28</td>\n",
       "      <td>2018-07-20 05:11:47</td>\n",
       "      <td>72</td>\n",
       "      <td>2</td>\n",
       "      <td>0</td>\n",
       "      <td>1</td>\n",
       "      <td>tx</td>\n",
       "    </tr>\n",
       "  </tbody>\n",
       "</table>\n",
       "<p>5 rows × 25 columns</p>\n",
       "</div>"
      ],
      "text/plain": [
       "              ts userId  sessionId      page       auth method  status level  \\\n",
       "0  1538352011000    293        292  NextSong  Logged In    PUT     200  free   \n",
       "1  1538352608000    293        292  NextSong  Logged In    PUT     200  free   \n",
       "2  1538352788000    293        292  NextSong  Logged In    PUT     200  free   \n",
       "3  1538353056000    293        292  NextSong  Logged In    PUT     200  free   \n",
       "4  1538353288000    293        292  NextSong  Logged In    PUT     200  free   \n",
       "\n",
       "   itemInSession            location  ...                 artist  \\\n",
       "0             20  Corpus Christi, TX  ...          martin orford   \n",
       "1             21  Corpus Christi, TX  ...     the pussycat dolls   \n",
       "2             22  Corpus Christi, TX  ...   eminem / hailie jade   \n",
       "3             24  Corpus Christi, TX  ...       jedi mind tricks   \n",
       "4             25  Corpus Christi, TX  ...  eagles of death metal   \n",
       "\n",
       "                          song     length        ts_converted  \\\n",
       "0                Grand Designs  597.55057 2018-10-01 00:00:11   \n",
       "1                   Santa Baby  180.50567 2018-10-01 00:10:08   \n",
       "2          My Dad's Gone Crazy  268.59057 2018-10-01 00:13:08   \n",
       "3                      Suicide  232.88118 2018-10-01 00:17:36   \n",
       "4  I Like To Move In The Night  239.75138 2018-10-01 00:21:28   \n",
       "\n",
       "  registration_converted time_since_registered subscribe_flow  \\\n",
       "0    2018-07-20 05:11:47                    72              2   \n",
       "1    2018-07-20 05:11:47                    72              2   \n",
       "2    2018-07-20 05:11:47                    72              2   \n",
       "3    2018-07-20 05:11:47                    72              2   \n",
       "4    2018-07-20 05:11:47                    72              2   \n",
       "\n",
       "   userAgent_summarised male location_state  \n",
       "0                     0    1             tx  \n",
       "1                     0    1             tx  \n",
       "2                     0    1             tx  \n",
       "3                     0    1             tx  \n",
       "4                     0    1             tx  \n",
       "\n",
       "[5 rows x 25 columns]"
      ]
     },
     "execution_count": 14,
     "metadata": {},
     "output_type": "execute_result"
    }
   ],
   "source": [
    "df.head()"
   ]
  },
  {
   "cell_type": "markdown",
   "metadata": {},
   "source": [
    "## Data Exploration"
   ]
  },
  {
   "cell_type": "code",
   "execution_count": 15,
   "metadata": {},
   "outputs": [
    {
     "data": {
      "text/html": [
       "<div>\n",
       "<style scoped>\n",
       "    .dataframe tbody tr th:only-of-type {\n",
       "        vertical-align: middle;\n",
       "    }\n",
       "\n",
       "    .dataframe tbody tr th {\n",
       "        vertical-align: top;\n",
       "    }\n",
       "\n",
       "    .dataframe thead th {\n",
       "        text-align: right;\n",
       "    }\n",
       "</style>\n",
       "<table border=\"1\" class=\"dataframe\">\n",
       "  <thead>\n",
       "    <tr style=\"text-align: right;\">\n",
       "      <th></th>\n",
       "      <th>ts</th>\n",
       "      <th>sessionId</th>\n",
       "      <th>status</th>\n",
       "      <th>itemInSession</th>\n",
       "      <th>registration</th>\n",
       "      <th>length</th>\n",
       "      <th>time_since_registered</th>\n",
       "      <th>subscribe_flow</th>\n",
       "      <th>userAgent_summarised</th>\n",
       "      <th>male</th>\n",
       "    </tr>\n",
       "  </thead>\n",
       "  <tbody>\n",
       "    <tr>\n",
       "      <th>count</th>\n",
       "      <td>4.328770e+05</td>\n",
       "      <td>432877.000000</td>\n",
       "      <td>432877.0</td>\n",
       "      <td>432877.000000</td>\n",
       "      <td>4.328770e+05</td>\n",
       "      <td>432877.000000</td>\n",
       "      <td>432877.000000</td>\n",
       "      <td>432877.000000</td>\n",
       "      <td>432877.000000</td>\n",
       "      <td>432877.000000</td>\n",
       "    </tr>\n",
       "    <tr>\n",
       "      <th>mean</th>\n",
       "      <td>1.540981e+12</td>\n",
       "      <td>2066.889853</td>\n",
       "      <td>200.0</td>\n",
       "      <td>109.646107</td>\n",
       "      <td>1.535525e+12</td>\n",
       "      <td>248.664593</td>\n",
       "      <td>62.661925</td>\n",
       "      <td>1.760181</td>\n",
       "      <td>0.779104</td>\n",
       "      <td>0.573341</td>\n",
       "    </tr>\n",
       "    <tr>\n",
       "      <th>std</th>\n",
       "      <td>1.477064e+09</td>\n",
       "      <td>1431.168033</td>\n",
       "      <td>0.0</td>\n",
       "      <td>117.858285</td>\n",
       "      <td>3.070613e+09</td>\n",
       "      <td>98.412670</td>\n",
       "      <td>39.216447</td>\n",
       "      <td>0.426973</td>\n",
       "      <td>0.781221</td>\n",
       "      <td>0.494592</td>\n",
       "    </tr>\n",
       "    <tr>\n",
       "      <th>min</th>\n",
       "      <td>1.538352e+12</td>\n",
       "      <td>1.000000</td>\n",
       "      <td>200.0</td>\n",
       "      <td>0.000000</td>\n",
       "      <td>1.509854e+12</td>\n",
       "      <td>0.783220</td>\n",
       "      <td>-1.000000</td>\n",
       "      <td>1.000000</td>\n",
       "      <td>0.000000</td>\n",
       "      <td>0.000000</td>\n",
       "    </tr>\n",
       "    <tr>\n",
       "      <th>25%</th>\n",
       "      <td>1.539745e+12</td>\n",
       "      <td>654.000000</td>\n",
       "      <td>200.0</td>\n",
       "      <td>27.000000</td>\n",
       "      <td>1.534368e+12</td>\n",
       "      <td>199.392200</td>\n",
       "      <td>36.000000</td>\n",
       "      <td>2.000000</td>\n",
       "      <td>0.000000</td>\n",
       "      <td>0.000000</td>\n",
       "    </tr>\n",
       "    <tr>\n",
       "      <th>50%</th>\n",
       "      <td>1.541020e+12</td>\n",
       "      <td>2016.000000</td>\n",
       "      <td>200.0</td>\n",
       "      <td>70.000000</td>\n",
       "      <td>1.536556e+12</td>\n",
       "      <td>234.004440</td>\n",
       "      <td>55.000000</td>\n",
       "      <td>2.000000</td>\n",
       "      <td>1.000000</td>\n",
       "      <td>1.000000</td>\n",
       "    </tr>\n",
       "    <tr>\n",
       "      <th>75%</th>\n",
       "      <td>1.542188e+12</td>\n",
       "      <td>3325.000000</td>\n",
       "      <td>200.0</td>\n",
       "      <td>151.000000</td>\n",
       "      <td>1.537612e+12</td>\n",
       "      <td>276.793020</td>\n",
       "      <td>79.000000</td>\n",
       "      <td>2.000000</td>\n",
       "      <td>1.000000</td>\n",
       "      <td>1.000000</td>\n",
       "    </tr>\n",
       "    <tr>\n",
       "      <th>max</th>\n",
       "      <td>1.543622e+12</td>\n",
       "      <td>4808.000000</td>\n",
       "      <td>200.0</td>\n",
       "      <td>1005.000000</td>\n",
       "      <td>1.543074e+12</td>\n",
       "      <td>3024.665670</td>\n",
       "      <td>390.000000</td>\n",
       "      <td>2.000000</td>\n",
       "      <td>3.000000</td>\n",
       "      <td>1.000000</td>\n",
       "    </tr>\n",
       "  </tbody>\n",
       "</table>\n",
       "</div>"
      ],
      "text/plain": [
       "                 ts      sessionId    status  itemInSession  registration  \\\n",
       "count  4.328770e+05  432877.000000  432877.0  432877.000000  4.328770e+05   \n",
       "mean   1.540981e+12    2066.889853     200.0     109.646107  1.535525e+12   \n",
       "std    1.477064e+09    1431.168033       0.0     117.858285  3.070613e+09   \n",
       "min    1.538352e+12       1.000000     200.0       0.000000  1.509854e+12   \n",
       "25%    1.539745e+12     654.000000     200.0      27.000000  1.534368e+12   \n",
       "50%    1.541020e+12    2016.000000     200.0      70.000000  1.536556e+12   \n",
       "75%    1.542188e+12    3325.000000     200.0     151.000000  1.537612e+12   \n",
       "max    1.543622e+12    4808.000000     200.0    1005.000000  1.543074e+12   \n",
       "\n",
       "              length  time_since_registered  subscribe_flow  \\\n",
       "count  432877.000000          432877.000000   432877.000000   \n",
       "mean      248.664593              62.661925        1.760181   \n",
       "std        98.412670              39.216447        0.426973   \n",
       "min         0.783220              -1.000000        1.000000   \n",
       "25%       199.392200              36.000000        2.000000   \n",
       "50%       234.004440              55.000000        2.000000   \n",
       "75%       276.793020              79.000000        2.000000   \n",
       "max      3024.665670             390.000000        2.000000   \n",
       "\n",
       "       userAgent_summarised           male  \n",
       "count         432877.000000  432877.000000  \n",
       "mean               0.779104       0.573341  \n",
       "std                0.781221       0.494592  \n",
       "min                0.000000       0.000000  \n",
       "25%                0.000000       0.000000  \n",
       "50%                1.000000       1.000000  \n",
       "75%                1.000000       1.000000  \n",
       "max                3.000000       1.000000  "
      ]
     },
     "execution_count": 15,
     "metadata": {},
     "output_type": "execute_result"
    }
   ],
   "source": [
    "df.describe()"
   ]
  },
  {
   "cell_type": "code",
   "execution_count": 16,
   "metadata": {},
   "outputs": [
    {
     "data": {
      "text/plain": [
       "Index(['ts', 'userId', 'sessionId', 'page', 'auth', 'method', 'status',\n",
       "       'level', 'itemInSession', 'location', 'userAgent', 'lastName',\n",
       "       'firstName', 'registration', 'gender', 'artist', 'song', 'length',\n",
       "       'ts_converted', 'registration_converted', 'time_since_registered',\n",
       "       'subscribe_flow', 'userAgent_summarised', 'male', 'location_state'],\n",
       "      dtype='object')"
      ]
     },
     "execution_count": 16,
     "metadata": {},
     "output_type": "execute_result"
    }
   ],
   "source": [
    "df.columns"
   ]
  },
  {
   "cell_type": "code",
   "execution_count": 17,
   "metadata": {},
   "outputs": [
    {
     "data": {
      "text/plain": [
       "71"
      ]
     },
     "execution_count": 17,
     "metadata": {},
     "output_type": "execute_result"
    }
   ],
   "source": [
    "df.userAgent.nunique()"
   ]
  },
  {
   "cell_type": "code",
   "execution_count": 18,
   "metadata": {},
   "outputs": [
    {
     "data": {
      "text/plain": [
       "21245"
      ]
     },
     "execution_count": 18,
     "metadata": {},
     "output_type": "execute_result"
    }
   ],
   "source": [
    "df.artist.nunique()"
   ]
  },
  {
   "cell_type": "code",
   "execution_count": 19,
   "metadata": {},
   "outputs": [
    {
     "data": {
      "text/plain": [
       "80292"
      ]
     },
     "execution_count": 19,
     "metadata": {},
     "output_type": "execute_result"
    }
   ],
   "source": [
    "df.song.nunique()"
   ]
  },
  {
   "cell_type": "code",
   "execution_count": 20,
   "metadata": {},
   "outputs": [
    {
     "data": {
      "text/plain": [
       "448"
      ]
     },
     "execution_count": 20,
     "metadata": {},
     "output_type": "execute_result"
    }
   ],
   "source": [
    "df['userId'].nunique()"
   ]
  },
  {
   "cell_type": "code",
   "execution_count": 21,
   "metadata": {},
   "outputs": [
    {
     "data": {
      "text/plain": [
       "80292"
      ]
     },
     "execution_count": 21,
     "metadata": {},
     "output_type": "execute_result"
    }
   ],
   "source": [
    "df['song'].nunique()"
   ]
  },
  {
   "cell_type": "code",
   "execution_count": 22,
   "metadata": {},
   "outputs": [
    {
     "data": {
      "text/plain": [
       "550.0"
      ]
     },
     "execution_count": 22,
     "metadata": {},
     "output_type": "execute_result"
    }
   ],
   "source": [
    "# Average songs per userId\n",
    "df.groupby('userId').song.count().median()"
   ]
  },
  {
   "cell_type": "code",
   "execution_count": 23,
   "metadata": {},
   "outputs": [
    {
     "data": {
      "text/plain": [
       "userId\n",
       "92        8177\n",
       "140       6233\n",
       "300049    5879\n",
       "101       5745\n",
       "300035    5528\n",
       "Name: song, dtype: int64"
      ]
     },
     "execution_count": 23,
     "metadata": {},
     "output_type": "execute_result"
    }
   ],
   "source": [
    "# Top songs per userId\n",
    "df.groupby('userId').song.count().sort_values(ascending=False).head()"
   ]
  },
  {
   "cell_type": "code",
   "execution_count": 24,
   "metadata": {},
   "outputs": [
    {
     "data": {
      "text/plain": [
       "count    432877.000000\n",
       "mean        248.664593\n",
       "std          98.412670\n",
       "min           0.783220\n",
       "25%         199.392200\n",
       "50%         234.004440\n",
       "75%         276.793020\n",
       "max        3024.665670\n",
       "Name: length, dtype: float64"
      ]
     },
     "execution_count": 24,
     "metadata": {},
     "output_type": "execute_result"
    }
   ],
   "source": [
    "# Avg song length\n",
    "df['length'].describe()"
   ]
  },
  {
   "cell_type": "code",
   "execution_count": 25,
   "metadata": {},
   "outputs": [
    {
     "data": {
      "text/plain": [
       "PUT    432877\n",
       "Name: method, dtype: int64"
      ]
     },
     "execution_count": 25,
     "metadata": {},
     "output_type": "execute_result"
    }
   ],
   "source": [
    "# Method column is not useful\n",
    "df.method.value_counts()"
   ]
  },
  {
   "cell_type": "code",
   "execution_count": 26,
   "metadata": {},
   "outputs": [
    {
     "data": {
      "text/plain": [
       "Logged In    432877\n",
       "Name: auth, dtype: int64"
      ]
     },
     "execution_count": 26,
     "metadata": {},
     "output_type": "execute_result"
    }
   ],
   "source": [
    "# Auth column is not useful\n",
    "df['auth'].value_counts()"
   ]
  },
  {
   "cell_type": "code",
   "execution_count": 27,
   "metadata": {},
   "outputs": [
    {
     "data": {
      "text/plain": [
       "NextSong    432877\n",
       "Name: page, dtype: int64"
      ]
     },
     "execution_count": 27,
     "metadata": {},
     "output_type": "execute_result"
    }
   ],
   "source": [
    "# Page column is not useful\n",
    "df['page'].value_counts()"
   ]
  },
  {
   "cell_type": "code",
   "execution_count": 28,
   "metadata": {},
   "outputs": [
    {
     "data": {
      "text/plain": [
       "200    432877\n",
       "Name: status, dtype: int64"
      ]
     },
     "execution_count": 28,
     "metadata": {},
     "output_type": "execute_result"
    }
   ],
   "source": [
    "# Status column is not useful\n",
    "df['status'].value_counts()"
   ]
  },
  {
   "cell_type": "code",
   "execution_count": 29,
   "metadata": {},
   "outputs": [
    {
     "data": {
      "text/plain": [
       "paid    273\n",
       "free    175\n",
       "Name: level, dtype: int64"
      ]
     },
     "execution_count": 29,
     "metadata": {},
     "output_type": "execute_result"
    }
   ],
   "source": [
    "# level proportion for each unique userId\n",
    "df.groupby('userId')['level'].agg(pd.Series.mode).value_counts()"
   ]
  },
  {
   "cell_type": "code",
   "execution_count": 30,
   "metadata": {},
   "outputs": [
    {
     "data": {
      "text/plain": [
       "M    250\n",
       "F    198\n",
       "Name: gender, dtype: int64"
      ]
     },
     "execution_count": 30,
     "metadata": {},
     "output_type": "execute_result"
    }
   ],
   "source": [
    "# Gender proportion for each unique userId\n",
    "df.groupby('userId')['gender'].agg(pd.Series.mode).value_counts()"
   ]
  },
  {
   "cell_type": "code",
   "execution_count": 31,
   "metadata": {},
   "outputs": [
    {
     "data": {
      "text/plain": [
       "artist\n",
       "kings of leon             3497\n",
       "coldplay                  3439\n",
       "florence + the machine    2314\n",
       "muse                      2194\n",
       "dwight yoakam             2187\n",
       "Name: userId, dtype: int64"
      ]
     },
     "execution_count": 31,
     "metadata": {},
     "output_type": "execute_result"
    }
   ],
   "source": [
    "# Most popular artist\n",
    "df.groupby('artist').userId.count().sort_values(ascending=False).head()"
   ]
  },
  {
   "cell_type": "code",
   "execution_count": 32,
   "metadata": {},
   "outputs": [
    {
     "data": {
      "text/plain": [
       "artist                  level\n",
       "kings of leon           paid     2843\n",
       "coldplay                paid     2793\n",
       "florence + the machine  paid     1862\n",
       "muse                    paid     1782\n",
       "dwight yoakam           paid     1776\n",
       "Name: userId, dtype: int64"
      ]
     },
     "execution_count": 32,
     "metadata": {},
     "output_type": "execute_result"
    }
   ],
   "source": [
    "# Most popular artist listened by free or paid users \n",
    "df.groupby(['artist','level']).userId.count().sort_values(ascending=False).head()"
   ]
  },
  {
   "cell_type": "code",
   "execution_count": 33,
   "metadata": {},
   "outputs": [
    {
     "data": {
      "text/plain": [
       "song                                                                 artist                                                                \n",
       "You're The One                                                       dwight yoakam                                                             2166\n",
       "Undo                                                                 bjãâ¶rk                                                                  1938\n",
       "Revelry                                                              kings of leon                                                             1613\n",
       "Sehr kosmisch                                                        harmonia                                                                  1341\n",
       "Horn Concerto No. 4 in E flat K495: II. Romance (Andante cantabile)  barry tuckwell/academy of st martin-in-the-fields/sir neville marriner    1236\n",
       "Name: userId, dtype: int64"
      ]
     },
     "execution_count": 33,
     "metadata": {},
     "output_type": "execute_result"
    }
   ],
   "source": [
    "# Most popular artist listened by free or paid users \n",
    "df.groupby(['song','artist']).userId.count().sort_values(ascending=False).head()"
   ]
  },
  {
   "cell_type": "code",
   "execution_count": 34,
   "metadata": {},
   "outputs": [
    {
     "data": {
      "text/plain": [
       "0    5\n",
       "dtype: int64"
      ]
     },
     "execution_count": 34,
     "metadata": {},
     "output_type": "execute_result"
    }
   ],
   "source": [
    "# How many songs do they listen in each session\n",
    "df.groupby(['sessionId','userId']).song.count().mode()"
   ]
  },
  {
   "cell_type": "code",
   "execution_count": 35,
   "metadata": {},
   "outputs": [
    {
     "data": {
      "text/plain": [
       "subscribe_flow\n",
       "1    206\n",
       "2    242\n",
       "Name: userId, dtype: int64"
      ]
     },
     "execution_count": 35,
     "metadata": {},
     "output_type": "execute_result"
    }
   ],
   "source": [
    "df.groupby('subscribe_flow').userId.nunique()"
   ]
  },
  {
   "cell_type": "markdown",
   "metadata": {},
   "source": [
    "## Model to predict propensity to subscribe"
   ]
  },
  {
   "cell_type": "markdown",
   "metadata": {},
   "source": [
    "### Preprocessing & Train/test split"
   ]
  },
  {
   "cell_type": "code",
   "execution_count": 36,
   "metadata": {},
   "outputs": [],
   "source": [
    "# processed_df = df.drop(columns=['auth','page','status','method','lastName','firstName','registration','ts'])\n",
    "processed_df = df[['itemInSession', 'location_state', 'userAgent_summarised', 'male', 'length', 'time_since_registered', 'subscribe_flow']]"
   ]
  },
  {
   "cell_type": "code",
   "execution_count": 37,
   "metadata": {},
   "outputs": [],
   "source": [
    "converted_df = processed_df[processed_df['subscribe_flow'] == 2].sample(10000, random_state=42)\n",
    "unconverted_df = processed_df[processed_df['subscribe_flow'] == 1].sample(10000, random_state=42)\n",
    "processed_df = pd.concat([converted_df, unconverted_df])"
   ]
  },
  {
   "cell_type": "code",
   "execution_count": 38,
   "metadata": {},
   "outputs": [],
   "source": [
    "processed_df = pd.get_dummies(processed_df, prefix=['state_'], columns=['location_state'])"
   ]
  },
  {
   "cell_type": "code",
   "execution_count": 39,
   "metadata": {},
   "outputs": [],
   "source": [
    "# Split train/test\n",
    "from sklearn.model_selection import train_test_split\n",
    "\n",
    "X = processed_df.drop(['subscribe_flow'], axis=1)\n",
    "y = processed_df[['subscribe_flow']]\n",
    "X_train, X_test, y_train, y_test = train_test_split(X, y, test_size=0.33, random_state=41)"
   ]
  },
  {
   "cell_type": "markdown",
   "metadata": {},
   "source": [
    "### Training"
   ]
  },
  {
   "cell_type": "code",
   "execution_count": 40,
   "metadata": {},
   "outputs": [
    {
     "name": "stderr",
     "output_type": "stream",
     "text": [
      "<ipython-input-40-74092bac0dd7>:4: DataConversionWarning: A column-vector y was passed when a 1d array was expected. Please change the shape of y to (n_samples,), for example using ravel().\n",
      "  clf.fit(X_train, y_train)\n"
     ]
    },
    {
     "data": {
      "text/plain": [
       "RandomForestClassifier(max_depth=10, n_estimators=1500, random_state=0)"
      ]
     },
     "execution_count": 40,
     "metadata": {},
     "output_type": "execute_result"
    }
   ],
   "source": [
    "from sklearn.ensemble import RandomForestClassifier\n",
    "\n",
    "clf = RandomForestClassifier(n_estimators=1500, max_depth=10, random_state=0)\n",
    "clf.fit(X_train, y_train)"
   ]
  },
  {
   "cell_type": "markdown",
   "metadata": {},
   "source": [
    "### Evaluation"
   ]
  },
  {
   "cell_type": "code",
   "execution_count": 41,
   "metadata": {},
   "outputs": [],
   "source": [
    "y_pred=clf.predict(X_test)"
   ]
  },
  {
   "cell_type": "code",
   "execution_count": 44,
   "metadata": {},
   "outputs": [
    {
     "name": "stdout",
     "output_type": "stream",
     "text": [
      "F1 Score:  0.8422971741112124\n"
     ]
    }
   ],
   "source": [
    "from sklearn import metrics\n",
    "print(\"F1 Score: \", metrics.f1_score(y_test, y_pred))"
   ]
  },
  {
   "cell_type": "code",
   "execution_count": null,
   "metadata": {},
   "outputs": [],
   "source": []
  }
 ],
 "metadata": {
  "kernelspec": {
   "display_name": "Python 3",
   "language": "python",
   "name": "python3"
  },
  "language_info": {
   "codemirror_mode": {
    "name": "ipython",
    "version": 3
   },
   "file_extension": ".py",
   "mimetype": "text/x-python",
   "name": "python",
   "nbconvert_exporter": "python",
   "pygments_lexer": "ipython3",
   "version": "3.8.3"
  }
 },
 "nbformat": 4,
 "nbformat_minor": 4
}
